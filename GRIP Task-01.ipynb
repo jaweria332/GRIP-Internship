{
 "cells": [
  {
   "cell_type": "markdown",
   "id": "explicit-surname",
   "metadata": {},
   "source": [
    "# PREDICTION USING SUPERVISED ML"
   ]
  },
  {
   "cell_type": "markdown",
   "id": "nasty-general",
   "metadata": {},
   "source": [
    "## Task: \n",
    "***Predict the percentage of an student based on the number of study hours***"
   ]
  },
  {
   "cell_type": "markdown",
   "id": "perfect-wyoming",
   "metadata": {},
   "source": [
    "**Author**: Jaweria Niaz Mughal"
   ]
  },
  {
   "cell_type": "markdown",
   "id": "saving-bulgarian",
   "metadata": {},
   "source": [
    "### STEP-01: Importing and Analyzing the data"
   ]
  },
  {
   "cell_type": "code",
   "execution_count": 4,
   "id": "unsigned-palestine",
   "metadata": {},
   "outputs": [
    {
     "name": "stdout",
     "output_type": "stream",
     "text": [
      "Data Imported Successfully!\n"
     ]
    },
    {
     "data": {
      "text/html": [
       "<div>\n",
       "<style scoped>\n",
       "    .dataframe tbody tr th:only-of-type {\n",
       "        vertical-align: middle;\n",
       "    }\n",
       "\n",
       "    .dataframe tbody tr th {\n",
       "        vertical-align: top;\n",
       "    }\n",
       "\n",
       "    .dataframe thead th {\n",
       "        text-align: right;\n",
       "    }\n",
       "</style>\n",
       "<table border=\"1\" class=\"dataframe\">\n",
       "  <thead>\n",
       "    <tr style=\"text-align: right;\">\n",
       "      <th></th>\n",
       "      <th>Hours</th>\n",
       "      <th>Scores</th>\n",
       "    </tr>\n",
       "  </thead>\n",
       "  <tbody>\n",
       "    <tr>\n",
       "      <th>0</th>\n",
       "      <td>2.5</td>\n",
       "      <td>21</td>\n",
       "    </tr>\n",
       "    <tr>\n",
       "      <th>1</th>\n",
       "      <td>5.1</td>\n",
       "      <td>47</td>\n",
       "    </tr>\n",
       "    <tr>\n",
       "      <th>2</th>\n",
       "      <td>3.2</td>\n",
       "      <td>27</td>\n",
       "    </tr>\n",
       "    <tr>\n",
       "      <th>3</th>\n",
       "      <td>8.5</td>\n",
       "      <td>75</td>\n",
       "    </tr>\n",
       "    <tr>\n",
       "      <th>4</th>\n",
       "      <td>3.5</td>\n",
       "      <td>30</td>\n",
       "    </tr>\n",
       "    <tr>\n",
       "      <th>5</th>\n",
       "      <td>1.5</td>\n",
       "      <td>20</td>\n",
       "    </tr>\n",
       "    <tr>\n",
       "      <th>6</th>\n",
       "      <td>9.2</td>\n",
       "      <td>88</td>\n",
       "    </tr>\n",
       "    <tr>\n",
       "      <th>7</th>\n",
       "      <td>5.5</td>\n",
       "      <td>60</td>\n",
       "    </tr>\n",
       "    <tr>\n",
       "      <th>8</th>\n",
       "      <td>8.3</td>\n",
       "      <td>81</td>\n",
       "    </tr>\n",
       "    <tr>\n",
       "      <th>9</th>\n",
       "      <td>2.7</td>\n",
       "      <td>25</td>\n",
       "    </tr>\n",
       "    <tr>\n",
       "      <th>10</th>\n",
       "      <td>7.7</td>\n",
       "      <td>85</td>\n",
       "    </tr>\n",
       "    <tr>\n",
       "      <th>11</th>\n",
       "      <td>5.9</td>\n",
       "      <td>62</td>\n",
       "    </tr>\n",
       "    <tr>\n",
       "      <th>12</th>\n",
       "      <td>4.5</td>\n",
       "      <td>41</td>\n",
       "    </tr>\n",
       "    <tr>\n",
       "      <th>13</th>\n",
       "      <td>3.3</td>\n",
       "      <td>42</td>\n",
       "    </tr>\n",
       "    <tr>\n",
       "      <th>14</th>\n",
       "      <td>1.1</td>\n",
       "      <td>17</td>\n",
       "    </tr>\n",
       "    <tr>\n",
       "      <th>15</th>\n",
       "      <td>8.9</td>\n",
       "      <td>95</td>\n",
       "    </tr>\n",
       "    <tr>\n",
       "      <th>16</th>\n",
       "      <td>2.5</td>\n",
       "      <td>30</td>\n",
       "    </tr>\n",
       "    <tr>\n",
       "      <th>17</th>\n",
       "      <td>1.9</td>\n",
       "      <td>24</td>\n",
       "    </tr>\n",
       "    <tr>\n",
       "      <th>18</th>\n",
       "      <td>6.1</td>\n",
       "      <td>67</td>\n",
       "    </tr>\n",
       "    <tr>\n",
       "      <th>19</th>\n",
       "      <td>7.4</td>\n",
       "      <td>69</td>\n",
       "    </tr>\n",
       "    <tr>\n",
       "      <th>20</th>\n",
       "      <td>2.7</td>\n",
       "      <td>30</td>\n",
       "    </tr>\n",
       "    <tr>\n",
       "      <th>21</th>\n",
       "      <td>4.8</td>\n",
       "      <td>54</td>\n",
       "    </tr>\n",
       "    <tr>\n",
       "      <th>22</th>\n",
       "      <td>3.8</td>\n",
       "      <td>35</td>\n",
       "    </tr>\n",
       "    <tr>\n",
       "      <th>23</th>\n",
       "      <td>6.9</td>\n",
       "      <td>76</td>\n",
       "    </tr>\n",
       "    <tr>\n",
       "      <th>24</th>\n",
       "      <td>7.8</td>\n",
       "      <td>86</td>\n",
       "    </tr>\n",
       "  </tbody>\n",
       "</table>\n",
       "</div>"
      ],
      "text/plain": [
       "    Hours  Scores\n",
       "0     2.5      21\n",
       "1     5.1      47\n",
       "2     3.2      27\n",
       "3     8.5      75\n",
       "4     3.5      30\n",
       "5     1.5      20\n",
       "6     9.2      88\n",
       "7     5.5      60\n",
       "8     8.3      81\n",
       "9     2.7      25\n",
       "10    7.7      85\n",
       "11    5.9      62\n",
       "12    4.5      41\n",
       "13    3.3      42\n",
       "14    1.1      17\n",
       "15    8.9      95\n",
       "16    2.5      30\n",
       "17    1.9      24\n",
       "18    6.1      67\n",
       "19    7.4      69\n",
       "20    2.7      30\n",
       "21    4.8      54\n",
       "22    3.8      35\n",
       "23    6.9      76\n",
       "24    7.8      86"
      ]
     },
     "execution_count": 4,
     "metadata": {},
     "output_type": "execute_result"
    }
   ],
   "source": [
    "# Importing necessary libraries\n",
    "import numpy as np\n",
    "import matplotlib.pyplot as plt\n",
    "import pandas as pd\n",
    "%matplotlib inline\n",
    "\n",
    "# Importing dataset\n",
    "dataset = pd.read_csv(\"F:\\\\Data science\\\\GRIP Insternship\\\\Task-01\\\\dataset.csv\")\n",
    "print(\"Data Imported Successfully!\")\n",
    "dataset"
   ]
  },
  {
   "cell_type": "code",
   "execution_count": 12,
   "id": "governing-gothic",
   "metadata": {},
   "outputs": [
    {
     "data": {
      "text/plain": [
       "Text(0.5, 1.0, 'Percentage of students based on number of study hours')"
      ]
     },
     "execution_count": 12,
     "metadata": {},
     "output_type": "execute_result"
    },
    {
     "data": {
      "image/png": "[encoded data removed]",
      "text/plain": [
       "<Figure size 432x288 with 1 Axes>"
      ]
     },
     "metadata": {
      "needs_background": "light"
     },
     "output_type": "display_data"
    }
   ],
   "source": [
    "# Visualizing the distribution of scores\n",
    "plt.scatter(dataset[[\"Hours\"]], dataset[[\"Scores\"]], color='orange')\n",
    "plt.xlabel(\"Study Hours\")\n",
    "plt.ylabel(\"Percentage\")\n",
    "plt.title(\"Percentage of students based on number of study hours\")"
   ]
  },
  {
   "cell_type": "markdown",
   "id": "framed-simpson",
   "metadata": {},
   "source": [
    "**Above graph shows a positive linear relation between number of Study hours and percentage of students.**"
   ]
  },
  {
   "cell_type": "markdown",
   "id": "technical-peter",
   "metadata": {},
   "source": [
    "### STEP-02: Preparaing Dataset"
   ]
  },
  {
   "cell_type": "code",
   "execution_count": 20,
   "id": "damaged-reason",
   "metadata": {},
   "outputs": [],
   "source": [
    "# Separating feature(s) and target\n",
    "x = dataset.iloc[:, :-1].values\n",
    "y = dataset.iloc[:, -1].values\n",
    "\n",
    "# Separating training and test set\n",
    "from sklearn.model_selection import train_test_split\n",
    "X_train, X_test, Y_train, Y_test = train_test_split(x,y,test_size=0.2)"
   ]
  },
  {
   "cell_type": "markdown",
   "id": "eleven-extension",
   "metadata": {},
   "source": [
    "**As there is positive linear relation between feature and target of our dataset, we implement \"Linear Regression\" on our model training**"
   ]
  },
  {
   "cell_type": "markdown",
   "id": "based-answer",
   "metadata": {},
   "source": [
    "### STEP-03: Training the model"
   ]
  },
  {
   "cell_type": "code",
   "execution_count": 21,
   "id": "hollywood-rings",
   "metadata": {},
   "outputs": [
    {
     "name": "stdout",
     "output_type": "stream",
     "text": [
      "Training Completed Successfully!\n"
     ]
    }
   ],
   "source": [
    "# Importing library\n",
    "from sklearn.linear_model import LinearRegression\n",
    "model = LinearRegression()\n",
    "model.fit(X_train, Y_train)\n",
    "print(\"Training Completed Successfully!\")"
   ]
  },
  {
   "cell_type": "code",
   "execution_count": 22,
   "id": "humanitarian-classics",
   "metadata": {},
   "outputs": [
    {
     "data": {
      "image/png": "[encoded data removed]",
      "text/plain": [
       "<Figure size 432x288 with 1 Axes>"
      ]
     },
     "metadata": {
      "needs_background": "light"
     },
     "output_type": "display_data"
    }
   ],
   "source": [
    "# Visualizing the linear model\n",
    "plt.scatter(x,y,color='orange')\n",
    "plt.plot(x, model.predict(x), color='purple')\n",
    "plt.xlabel(\"Study Hours\")\n",
    "plt.ylabel(\"Percentage\")\n",
    "plt.title(\"Percentage of students based on number of study hours\")\n",
    "plt.show()"
   ]
  },
  {
   "cell_type": "markdown",
   "id": "cleared-albania",
   "metadata": {},
   "source": [
    "### STEP-04: Making Predictions"
   ]
  },
  {
   "cell_type": "code",
   "execution_count": 24,
   "id": "expressed-tulsa",
   "metadata": {},
   "outputs": [
    {
     "data": {
      "text/html": [
       "<div>\n",
       "<style scoped>\n",
       "    .dataframe tbody tr th:only-of-type {\n",
       "        vertical-align: middle;\n",
       "    }\n",
       "\n",
       "    .dataframe tbody tr th {\n",
       "        vertical-align: top;\n",
       "    }\n",
       "\n",
       "    .dataframe thead th {\n",
       "        text-align: right;\n",
       "    }\n",
       "</style>\n",
       "<table border=\"1\" class=\"dataframe\">\n",
       "  <thead>\n",
       "    <tr style=\"text-align: right;\">\n",
       "      <th></th>\n",
       "      <th>Actual</th>\n",
       "      <th>Predicted</th>\n",
       "    </tr>\n",
       "  </thead>\n",
       "  <tbody>\n",
       "    <tr>\n",
       "      <th>0</th>\n",
       "      <td>75</td>\n",
       "      <td>87.588188</td>\n",
       "    </tr>\n",
       "    <tr>\n",
       "      <th>1</th>\n",
       "      <td>81</td>\n",
       "      <td>85.572899</td>\n",
       "    </tr>\n",
       "    <tr>\n",
       "      <th>2</th>\n",
       "      <td>25</td>\n",
       "      <td>29.144822</td>\n",
       "    </tr>\n",
       "    <tr>\n",
       "      <th>3</th>\n",
       "      <td>67</td>\n",
       "      <td>63.404726</td>\n",
       "    </tr>\n",
       "    <tr>\n",
       "      <th>4</th>\n",
       "      <td>47</td>\n",
       "      <td>53.328284</td>\n",
       "    </tr>\n",
       "  </tbody>\n",
       "</table>\n",
       "</div>"
      ],
      "text/plain": [
       "   Actual  Predicted\n",
       "0      75  87.588188\n",
       "1      81  85.572899\n",
       "2      25  29.144822\n",
       "3      67  63.404726\n",
       "4      47  53.328284"
      ]
     },
     "execution_count": 24,
     "metadata": {},
     "output_type": "execute_result"
    }
   ],
   "source": [
    "# Predictions - For test set\n",
    "y_pred = model.predict(X_test)\n",
    "result=pd.DataFrame({\n",
    "    'Actual': Y_test,\n",
    "    'Predicted': y_pred\n",
    "})\n",
    "result"
   ]
  },
  {
   "cell_type": "code",
   "execution_count": 25,
   "id": "civic-occasion",
   "metadata": {},
   "outputs": [
    {
     "name": "stdout",
     "output_type": "stream",
     "text": [
      "Enter no. of study hours : 3\n",
      "Your predicted percentage = [32.16775479] %\n"
     ]
    }
   ],
   "source": [
    "# Prediction on static value\n",
    "study_hours = float(input(\"Enter no. of study hours : \"))\n",
    "per = model.predict([[study_hours]])\n",
    "print(\"Your predicted percentage = \"+str(per)+\" %\")"
   ]
  },
  {
   "cell_type": "markdown",
   "id": "outer-register",
   "metadata": {},
   "source": [
    "### STEP-05: Evaluating the Model"
   ]
  },
  {
   "cell_type": "code",
   "execution_count": 32,
   "id": "framed-persian",
   "metadata": {},
   "outputs": [
    {
     "name": "stdout",
     "output_type": "stream",
     "text": [
      "Accuracy = 95.0540709099698 %\n",
      "Mean Squared Error = 2659.5692\n",
      "Mean Absolute Error = 6.245893276028939\n"
     ]
    }
   ],
   "source": [
    "# Finding accuracy score\n",
    "acc = model.score(x,y)\n",
    "print(\"Accuracy = \" + str(acc * 100) + \" %\")\n",
    "\n",
    "# Finding mean squared error\n",
    "from sklearn.metrics import mean_squared_error\n",
    "err = mean_squared_error(x,y)\n",
    "print(\"Mean Squared Error = \" + str(err))\n",
    "\n",
    "# Finding mean absolute error\n",
    "from sklearn.metrics import mean_absolute_error\n",
    "abs_err = mean_absolute_error(Y_test, y_pred)\n",
    "print(\"Mean Absolute Error = \" + str(abs_err))"
   ]
  }
 ],
 "metadata": {
  "kernelspec": {
   "display_name": "Python 3",
   "language": "python",
   "name": "python3"
  },
  "language_info": {
   "codemirror_mode": {
    "name": "ipython",
    "version": 3
   },
   "file_extension": ".py",
   "mimetype": "text/x-python",
   "name": "python",
   "nbconvert_exporter": "python",
   "pygments_lexer": "ipython3",
   "version": "3.8.3"
  }
 },
 "nbformat": 4,
 "nbformat_minor": 5
}

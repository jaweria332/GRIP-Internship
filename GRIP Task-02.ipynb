{
 "cells": [
  {
   "cell_type": "markdown",
   "id": "engaging-congress",
   "metadata": {},
   "source": [
    "# PREDICTION USING UNSUPERVISED ML"
   ]
  },
  {
   "cell_type": "markdown",
   "id": "continent-shift",
   "metadata": {},
   "source": [
    "## Task: \n",
    "***From the given ‘Iris’ dataset, predict the optimum number of clusters and represent it visually***"
   ]
  },
  {
   "cell_type": "markdown",
   "id": "tough-electronics",
   "metadata": {},
   "source": [
    "**Author:** Jaweria Niaz Mughal"
   ]
  },
  {
   "cell_type": "markdown",
   "id": "relative-running",
   "metadata": {},
   "source": [
    "### STEP-01: Importing and Analyzing dataset"
   ]
  },
  {
   "cell_type": "code",
   "execution_count": 8,
   "id": "subjective-toyota",
   "metadata": {},
   "outputs": [
    {
     "name": "stdout",
     "output_type": "stream",
     "text": [
      "Data Imported Successfully!\n"
     ]
    },
    {
     "data": {
      "text/html": [
       "<div>\n",
       "<style scoped>\n",
       "    .dataframe tbody tr th:only-of-type {\n",
       "        vertical-align: middle;\n",
       "    }\n",
       "\n",
       "    .dataframe tbody tr th {\n",
       "        vertical-align: top;\n",
       "    }\n",
       "\n",
       "    .dataframe thead th {\n",
       "        text-align: right;\n",
       "    }\n",
       "</style>\n",
       "<table border=\"1\" class=\"dataframe\">\n",
       "  <thead>\n",
       "    <tr style=\"text-align: right;\">\n",
       "      <th></th>\n",
       "      <th>sepal length (cm)</th>\n",
       "      <th>sepal width (cm)</th>\n",
       "      <th>petal length (cm)</th>\n",
       "      <th>petal width (cm)</th>\n",
       "    </tr>\n",
       "  </thead>\n",
       "  <tbody>\n",
       "    <tr>\n",
       "      <th>0</th>\n",
       "      <td>5.1</td>\n",
       "      <td>3.5</td>\n",
       "      <td>1.4</td>\n",
       "      <td>0.2</td>\n",
       "    </tr>\n",
       "    <tr>\n",
       "      <th>1</th>\n",
       "      <td>4.9</td>\n",
       "      <td>3.0</td>\n",
       "      <td>1.4</td>\n",
       "      <td>0.2</td>\n",
       "    </tr>\n",
       "    <tr>\n",
       "      <th>2</th>\n",
       "      <td>4.7</td>\n",
       "      <td>3.2</td>\n",
       "      <td>1.3</td>\n",
       "      <td>0.2</td>\n",
       "    </tr>\n",
       "    <tr>\n",
       "      <th>3</th>\n",
       "      <td>4.6</td>\n",
       "      <td>3.1</td>\n",
       "      <td>1.5</td>\n",
       "      <td>0.2</td>\n",
       "    </tr>\n",
       "    <tr>\n",
       "      <th>4</th>\n",
       "      <td>5.0</td>\n",
       "      <td>3.6</td>\n",
       "      <td>1.4</td>\n",
       "      <td>0.2</td>\n",
       "    </tr>\n",
       "  </tbody>\n",
       "</table>\n",
       "</div>"
      ],
      "text/plain": [
       "   sepal length (cm)  sepal width (cm)  petal length (cm)  petal width (cm)\n",
       "0                5.1               3.5                1.4               0.2\n",
       "1                4.9               3.0                1.4               0.2\n",
       "2                4.7               3.2                1.3               0.2\n",
       "3                4.6               3.1                1.5               0.2\n",
       "4                5.0               3.6                1.4               0.2"
      ]
     },
     "execution_count": 8,
     "metadata": {},
     "output_type": "execute_result"
    }
   ],
   "source": [
    "# Importing necessary libraries\n",
    "import numpy as np\n",
    "import pandas as pd\n",
    "import matplotlib.pyplot as plt\n",
    "from sklearn import datasets\n",
    "\n",
    "# Importing dataset\n",
    "data = datasets.load_iris()\n",
    "dataset = pd.DataFrame(data.data, columns = data.feature_names)\n",
    "print(\"Data Imported Successfully!\")\n",
    "dataset.head()"
   ]
  },
  {
   "cell_type": "markdown",
   "id": "operating-restriction",
   "metadata": {},
   "source": [
    "### STEP-02: Finding Optimal Number of Clusters"
   ]
  },
  {
   "cell_type": "markdown",
   "id": "sudden-canadian",
   "metadata": {},
   "source": [
    "We use ***Elbow Method*** to find optimal number of clusters in our dataset"
   ]
  },
  {
   "cell_type": "code",
   "execution_count": 6,
   "id": "national-mathematics",
   "metadata": {},
   "outputs": [
    {
     "data": {
      "text/plain": [
       "Text(0, 0.5, 'WCSS')"
      ]
     },
     "execution_count": 6,
     "metadata": {},
     "output_type": "execute_result"
    },
    {
     "data": {
      "image/png": "[encoded data removed]",
      "text/plain": [
       "<Figure size 432x288 with 1 Axes>"
      ]
     },
     "metadata": {
      "needs_background": "light"
     },
     "output_type": "display_data"
    }
   ],
   "source": [
    "# Separating features\n",
    "x = dataset.iloc[:, 0:].values\n",
    "\n",
    "# Importing K-Means\n",
    "from sklearn.cluster import KMeans\n",
    "WCSS = []\n",
    "\n",
    "\n",
    "# Finding optimal number of clusters between 1-10\n",
    "for i in range(1,11):\n",
    "    kmeans = KMeans(n_clusters = i, init = 'k-means++', random_state=42)\n",
    "    kmeans.fit(x)\n",
    "    WCSS.append(kmeans.inertia_)\n",
    "\n",
    "    \n",
    "# Visualizing the optimization graph\n",
    "plt.plot(range(1,11), WCSS, color='red')\n",
    "plt.title(\"Optimized number of cluster\")\n",
    "plt.xlabel(\"K-Value\")\n",
    "plt.ylabel(\"WCSS\")"
   ]
  },
  {
   "cell_type": "markdown",
   "id": "running-laundry",
   "metadata": {},
   "source": [
    "From above graph, we can easily get an idea that optimal number of clusters = ***3***"
   ]
  },
  {
   "cell_type": "markdown",
   "id": "trying-hearts",
   "metadata": {},
   "source": [
    "### STEP-03: Train the Model"
   ]
  },
  {
   "cell_type": "code",
   "execution_count": 9,
   "id": "sonic-arbitration",
   "metadata": {},
   "outputs": [
    {
     "name": "stdout",
     "output_type": "stream",
     "text": [
      "Training is successfully completed!\n"
     ]
    }
   ],
   "source": [
    "# To train the k-mean model, we'll use k=3 as defined above\n",
    "model = KMeans(n_clusters=3, init='k-means++', random_state=42)\n",
    "y = model.fit_predict(x)\n",
    "print(\"Training is successfully completed!\")"
   ]
  },
  {
   "cell_type": "markdown",
   "id": "dressed-butterfly",
   "metadata": {},
   "source": [
    "### STEP-04: Visualizing the resultant clusters"
   ]
  },
  {
   "cell_type": "code",
   "execution_count": 19,
   "id": "specific-gothic",
   "metadata": {},
   "outputs": [
    {
     "data": {
      "text/plain": [
       "<matplotlib.legend.Legend at 0x1cbf8430ca0>"
      ]
     },
     "execution_count": 19,
     "metadata": {},
     "output_type": "execute_result"
    },
    {
     "data": {
      "image/png": "[encoded data removed]",
      "text/plain": [
       "<Figure size 432x288 with 1 Axes>"
      ]
     },
     "metadata": {
      "needs_background": "light"
     },
     "output_type": "display_data"
    }
   ],
   "source": [
    "# Visualization clusters\n",
    "plt.scatter(x[y == 0, 0], x[y == 0, 1], s=100, c='lightblue', label='Cluster 1')\n",
    "plt.scatter(x[y == 1, 0], x[y == 1, 1], s=100, c='purple', label='Cluster 2')\n",
    "plt.scatter(x[y == 2, 0], x[y == 2, 1], s=100, c='orange', label='Cluster 3')\n",
    "\n",
    "# Visualizing the centroids\n",
    "plt.scatter(model.cluster_centers_[:,0], model.cluster_centers_[:,1], s=200, c='black', label='centroids')\n",
    "plt.title(\"Visualize Clusters in Iris Dataset\")\n",
    "plt.legend()"
   ]
  }
 ],
 "metadata": {
  "kernelspec": {
   "display_name": "Python 3",
   "language": "python",
   "name": "python3"
  },
  "language_info": {
   "codemirror_mode": {
    "name": "ipython",
    "version": 3
   },
   "file_extension": ".py",
   "mimetype": "text/x-python",
   "name": "python",
   "nbconvert_exporter": "python",
   "pygments_lexer": "ipython3",
   "version": "3.8.3"
  }
 },
 "nbformat": 4,
 "nbformat_minor": 5
}
